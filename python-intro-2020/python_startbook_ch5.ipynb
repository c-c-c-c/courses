{
  "nbformat": 4,
  "nbformat_minor": 0,
  "metadata": {
    "colab": {
      "name": "python_startbook_ch5.ipynb",
      "provenance": [],
      "collapsed_sections": [],
      "authorship_tag": "ABX9TyObCpME4Fkco7ApC1vy2KVl",
      "include_colab_link": true
    },
    "kernelspec": {
      "name": "python3",
      "display_name": "Python 3"
    }
  },
  "cells": [
    {
      "cell_type": "markdown",
      "metadata": {
        "id": "view-in-github",
        "colab_type": "text"
      },
      "source": [
        "<a href=\"https://colab.research.google.com/github/tomonari-masada/courses/blob/master/python-intro-2020/python_startbook_ch5.ipynb\" target=\"_parent\"><img src=\"https://colab.research.google.com/assets/colab-badge.svg\" alt=\"Open In Colab\"/></a>"
      ]
    },
    {
      "cell_type": "markdown",
      "metadata": {
        "id": "OndyJ7234PZ1",
        "colab_type": "text"
      },
      "source": [
        "参考書：[辻 真吾. Pythonスタートブック［増補改訂版］. Kindle Edition. ](https://www.amazon.co.jp/dp/B07C3LFNWJ/ref=cm_sw_r_tw_dp_U_x_iobJEbPXC8NYQ) "
      ]
    },
    {
      "cell_type": "markdown",
      "metadata": {
        "id": "q1OK1zBJfA8K",
        "colab_type": "text"
      },
      "source": [
        "# 5章\n",
        "「繰り返し」と「条件分岐」について学ぶ。\n",
        "\n",
        "複雑なプログラムを書くには、これらが必要。\n",
        "\n",
        "そうでないと単線的な処理しか書けない。"
      ]
    },
    {
      "cell_type": "markdown",
      "metadata": {
        "id": "mAEDmUGLfmrG",
        "colab_type": "text"
      },
      "source": [
        "## 5-2 for文"
      ]
    },
    {
      "cell_type": "code",
      "metadata": {
        "id": "qFUFH_tNehx2",
        "colab_type": "code",
        "colab": {}
      },
      "source": [
        "list_tohoku = [5349,5478,5344,4644,4968,6259]\n",
        "list_shikoku = [3148,2991,2966,2457]"
      ],
      "execution_count": 0,
      "outputs": []
    },
    {
      "cell_type": "markdown",
      "metadata": {
        "id": "-0aGF8T2f7vm",
        "colab_type": "text"
      },
      "source": [
        "（参考書にある「いつもと違って、\n",
        "「>>>」が「...」になっていますね。」\n",
        "\n",
        "のような話はGoogle Colabには\n",
        "関係ないので、気にしなくていいです。）"
      ]
    },
    {
      "cell_type": "code",
      "metadata": {
        "id": "4tjBjwYUfynz",
        "colab_type": "code",
        "colab": {}
      },
      "source": [
        "for val in list_tohoku:\n",
        "  print(val)"
      ],
      "execution_count": 0,
      "outputs": []
    },
    {
      "cell_type": "code",
      "metadata": {
        "id": "yVrEOEEzgviI",
        "colab_type": "code",
        "colab": {}
      },
      "source": [
        "# list_shikokuで同じようにforループを書く\n"
      ],
      "execution_count": 0,
      "outputs": []
    },
    {
      "cell_type": "code",
      "metadata": {
        "id": "9k7xTYJlg1Hs",
        "colab_type": "code",
        "colab": {}
      },
      "source": [
        "for val in range(3):\n",
        "  print(val)"
      ],
      "execution_count": 0,
      "outputs": []
    },
    {
      "cell_type": "code",
      "metadata": {
        "id": "zyoRi5P4g7Ee",
        "colab_type": "code",
        "colab": {}
      },
      "source": [
        "# 平均値を求める\n"
      ],
      "execution_count": 0,
      "outputs": []
    },
    {
      "cell_type": "code",
      "metadata": {
        "id": "xprfpXW6g_E9",
        "colab_type": "code",
        "colab": {}
      },
      "source": [
        ""
      ],
      "execution_count": 0,
      "outputs": []
    },
    {
      "cell_type": "markdown",
      "metadata": {
        "id": "-CEMH8sghXMM",
        "colab_type": "text"
      },
      "source": [
        "### 5-2-3 辞書型の要素にアクセス"
      ]
    },
    {
      "cell_type": "code",
      "metadata": {
        "id": "MZTehylGhHwG",
        "colab_type": "code",
        "colab": {}
      },
      "source": [
        "dict_tohoku = {'aomori':5349,'akita':4644,'sendai':5344,'Yamagata':4968.0,'fukushima':6259,'morioka':5478}"
      ],
      "execution_count": 0,
      "outputs": []
    },
    {
      "cell_type": "code",
      "metadata": {
        "id": "XhyF08J_hduL",
        "colab_type": "code",
        "colab": {}
      },
      "source": [
        "for key in dict_tohoku:\n",
        "  print(key)"
      ],
      "execution_count": 0,
      "outputs": []
    },
    {
      "cell_type": "code",
      "metadata": {
        "id": "p0m1EnE_m5tD",
        "colab_type": "code",
        "colab": {}
      },
      "source": [
        "# キーではなく値を表示するには？\n"
      ],
      "execution_count": 0,
      "outputs": []
    },
    {
      "cell_type": "code",
      "metadata": {
        "id": "zdF_I-8PnACD",
        "colab_type": "code",
        "colab": {}
      },
      "source": [
        "# 値の平均値を求める\n"
      ],
      "execution_count": 0,
      "outputs": []
    },
    {
      "cell_type": "markdown",
      "metadata": {
        "id": "I8gEaiWWnE3W",
        "colab_type": "text"
      },
      "source": [
        "## 5-3 if文\n",
        "条件によって処理を変える。"
      ]
    },
    {
      "cell_type": "code",
      "metadata": {
        "id": "tlwQYh8rnC6P",
        "colab_type": "code",
        "colab": {}
      },
      "source": [
        "# 真偽型の復習\n",
        "1 > 0"
      ],
      "execution_count": 0,
      "outputs": []
    },
    {
      "cell_type": "code",
      "metadata": {
        "id": "_AaQrHaknge9",
        "colab_type": "code",
        "colab": {}
      },
      "source": [
        "1 < 0"
      ],
      "execution_count": 0,
      "outputs": []
    },
    {
      "cell_type": "code",
      "metadata": {
        "id": "mq76h01UnhWY",
        "colab_type": "code",
        "colab": {}
      },
      "source": [
        "import datetime"
      ],
      "execution_count": 0,
      "outputs": []
    },
    {
      "cell_type": "code",
      "metadata": {
        "id": "hIHhzbFNnj9P",
        "colab_type": "code",
        "colab": {}
      },
      "source": [
        "today = datetime.datetime.now()\n",
        "print(today)"
      ],
      "execution_count": 0,
      "outputs": []
    },
    {
      "cell_type": "code",
      "metadata": {
        "id": "A8QQ0JLUnprc",
        "colab_type": "code",
        "colab": {}
      },
      "source": [
        "today.weekday()"
      ],
      "execution_count": 0,
      "outputs": []
    },
    {
      "cell_type": "code",
      "metadata": {
        "id": "07EGDqGlnsJm",
        "colab_type": "code",
        "colab": {}
      },
      "source": [
        "today.weekday() < 5"
      ],
      "execution_count": 0,
      "outputs": []
    },
    {
      "cell_type": "code",
      "metadata": {
        "id": "Gp_e6TDhnvRj",
        "colab_type": "code",
        "colab": {}
      },
      "source": [
        ""
      ],
      "execution_count": 0,
      "outputs": []
    },
    {
      "cell_type": "markdown",
      "metadata": {
        "id": "zXMVunOrnzsw",
        "colab_type": "text"
      },
      "source": [
        "## 5-3-3 elseによる分岐処理"
      ]
    },
    {
      "cell_type": "code",
      "metadata": {
        "id": "FukCpwMSnxhI",
        "colab_type": "code",
        "colab": {}
      },
      "source": [
        "if today.weekday() < 5:\n",
        "  print('頑張って働こう！')\n",
        "else:\n",
        "  print('休日だー')"
      ],
      "execution_count": 0,
      "outputs": []
    },
    {
      "cell_type": "markdown",
      "metadata": {
        "id": "LOx3mSqboL1p",
        "colab_type": "text"
      },
      "source": [
        "### 5-3-5 if〜elif〜else文による分岐処理"
      ]
    },
    {
      "cell_type": "code",
      "metadata": {
        "id": "sqsEv1kVoI07",
        "colab_type": "code",
        "colab": {}
      },
      "source": [
        "if today.weekday() < 4:\n",
        "  print('頑張って働こう！')\n",
        "elif today.weekday() == 4:\n",
        "  print('ゆっくりやろう')\n",
        "else:\n",
        "  print('休日だー')"
      ],
      "execution_count": 0,
      "outputs": []
    },
    {
      "cell_type": "markdown",
      "metadata": {
        "id": "J5xErekGoxFp",
        "colab_type": "text"
      },
      "source": [
        "## 5-4 while文"
      ]
    },
    {
      "cell_type": "markdown",
      "metadata": {
        "id": "2m8zH6UPo5MV",
        "colab_type": "text"
      },
      "source": [
        "### 5-4-1 条件が成立している間は繰り返す"
      ]
    },
    {
      "cell_type": "code",
      "metadata": {
        "id": "3clZtbeWoul7",
        "colab_type": "code",
        "colab": {}
      },
      "source": [
        "import random"
      ],
      "execution_count": 0,
      "outputs": []
    },
    {
      "cell_type": "code",
      "metadata": {
        "id": "2DvncsSbpFHA",
        "colab_type": "code",
        "colab": {}
      },
      "source": [
        "rand_num = 0\n",
        "while rand_num != 4:\n",
        "  rand_num = random.randint(0, 9)\n",
        "  print(rand_num)"
      ],
      "execution_count": 0,
      "outputs": []
    },
    {
      "cell_type": "markdown",
      "metadata": {
        "id": "L64iPAxQpV7Z",
        "colab_type": "text"
      },
      "source": [
        "###5-4-2 continueとbreak\n",
        "\n",
        "continueは、繰り返し処理のブロック内にある以降のコードを全て無視して、\n",
        "\n",
        "繰り返しの先頭に戻る。\n",
        "\n",
        "breakは、繰り返し処理のブロック内にある以降のコードを全て無視して、\n",
        "\n",
        "繰り返し処理を終了する。\n",
        "\n"
      ]
    },
    {
      "cell_type": "code",
      "metadata": {
        "id": "VVVlef6fpS2k",
        "colab_type": "code",
        "colab": {}
      },
      "source": [
        "rand_num = 0\n",
        "while True: # 無限ループ\n",
        "  rand_num = random.randint(0, 9)\n",
        "  print(rand_num)\n",
        "  if rand_num != 4:\n",
        "    continue\n",
        "  else:\n",
        "    break"
      ],
      "execution_count": 0,
      "outputs": []
    },
    {
      "cell_type": "markdown",
      "metadata": {
        "id": "ekzS_p37qsJg",
        "colab_type": "text"
      },
      "source": [
        "## 5-5 エラー\n",
        "（Pythonでは、エラーの発生を利用して、\n",
        "\n",
        "処理の流れを制御する、ということをよくやる。\n",
        "\n",
        "エラーのことを、「例外」とも呼ぶ。）"
      ]
    },
    {
      "cell_type": "code",
      "metadata": {
        "id": "yiqQVz-zpq8g",
        "colab_type": "code",
        "colab": {}
      },
      "source": [
        "# わざとエラーを出させてみる\n",
        "\n",
        "# 未定義の変数を使おうとしている\n",
        "print(test_str)"
      ],
      "execution_count": 0,
      "outputs": []
    },
    {
      "cell_type": "code",
      "metadata": {
        "id": "2S23kFMuq-lh",
        "colab_type": "code",
        "colab": {}
      },
      "source": [
        "# 関数が受け付けない引数を渡している\n",
        "float('zzz')"
      ],
      "execution_count": 0,
      "outputs": []
    },
    {
      "cell_type": "code",
      "metadata": {
        "id": "tRpMSDcwrIAH",
        "colab_type": "code",
        "colab": {}
      },
      "source": [
        "# エラーが起こったら、それに特定の処理で対応する\n",
        "# （ここでは単に「Error!」という文字列を表示するだけだが。）\n",
        "try:\n",
        "  float('zzz')\n",
        "except:\n",
        "  print('Error!')"
      ],
      "execution_count": 0,
      "outputs": []
    },
    {
      "cell_type": "markdown",
      "metadata": {
        "id": "RgzfjartsFZE",
        "colab_type": "text"
      },
      "source": [
        "## 5-6 BMI計算プログラム"
      ]
    },
    {
      "cell_type": "markdown",
      "metadata": {
        "id": "dM17fcclsJkY",
        "colab_type": "text"
      },
      "source": [
        "### 5-6-1 BMIとは\n",
        "kgで表された体重を、mで表された身長の二乗で割ったもの。"
      ]
    },
    {
      "cell_type": "markdown",
      "metadata": {
        "id": "u3telwtosTJ-",
        "colab_type": "text"
      },
      "source": [
        "### 5-6-4 文字列の整形（フォーマット）"
      ]
    },
    {
      "cell_type": "code",
      "metadata": {
        "id": "qYWf-kIyryuH",
        "colab_type": "code",
        "colab": {}
      },
      "source": [
        "x = 1 / 3"
      ],
      "execution_count": 0,
      "outputs": []
    },
    {
      "cell_type": "code",
      "metadata": {
        "id": "EULCHVDfshbR",
        "colab_type": "code",
        "colab": {}
      },
      "source": [
        "'answer = ' + str(x)"
      ],
      "execution_count": 0,
      "outputs": []
    },
    {
      "cell_type": "code",
      "metadata": {
        "id": "AXJq7GuLslk3",
        "colab_type": "code",
        "colab": {}
      },
      "source": [
        "'answer = {}'.format(x)"
      ],
      "execution_count": 0,
      "outputs": []
    },
    {
      "cell_type": "code",
      "metadata": {
        "id": "_nidGPY4sqZD",
        "colab_type": "code",
        "colab": {}
      },
      "source": [
        ""
      ],
      "execution_count": 0,
      "outputs": []
    },
    {
      "cell_type": "markdown",
      "metadata": {
        "id": "sXnWkqZpuPKC",
        "colab_type": "text"
      },
      "source": [
        "https://docs.python.org/3.4/library/string.html#format-examples"
      ]
    },
    {
      "cell_type": "code",
      "metadata": {
        "id": "k70uNMhTsuEz",
        "colab_type": "code",
        "colab": {}
      },
      "source": [
        "while True:\n",
        "  height = input('身長(m):?')\n",
        "  if len(height) == 0:\n",
        "    break\n",
        "  height = float(height)\n",
        "\n",
        "\n",
        "\n",
        "\n"
      ],
      "execution_count": 0,
      "outputs": []
    },
    {
      "cell_type": "code",
      "metadata": {
        "id": "V1Du3gF_tBa7",
        "colab_type": "code",
        "colab": {}
      },
      "source": [
        ""
      ],
      "execution_count": 0,
      "outputs": []
    },
    {
      "cell_type": "code",
      "metadata": {
        "id": "LAxlZRT7tMGN",
        "colab_type": "code",
        "colab": {}
      },
      "source": [
        ""
      ],
      "execution_count": 0,
      "outputs": []
    }
  ]
}