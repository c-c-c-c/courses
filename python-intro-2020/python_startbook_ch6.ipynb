{
  "nbformat": 4,
  "nbformat_minor": 0,
  "metadata": {
    "colab": {
      "name": "python_startbook_ch6.ipynb",
      "provenance": [],
      "collapsed_sections": [],
      "authorship_tag": "ABX9TyOR9ckzhtYSVFZw7G7wwg+8",
      "include_colab_link": true
    },
    "kernelspec": {
      "name": "python3",
      "display_name": "Python 3"
    }
  },
  "cells": [
    {
      "cell_type": "markdown",
      "metadata": {
        "id": "view-in-github",
        "colab_type": "text"
      },
      "source": [
        "<a href=\"https://colab.research.google.com/github/tomonari-masada/courses/blob/master/python-intro-2020/python_startbook_ch6.ipynb\" target=\"_parent\"><img src=\"https://colab.research.google.com/assets/colab-badge.svg\" alt=\"Open In Colab\"/></a>"
      ]
    },
    {
      "cell_type": "markdown",
      "metadata": {
        "colab_type": "text",
        "id": "SlI1hb8GMBme"
      },
      "source": [
        "参考図書：[辻 真吾. Pythonスタートブック［増補改訂版］. Kindle Edition. ](https://www.amazon.co.jp/dp/B07C3LFNWJ/ref=cm_sw_r_tw_dp_U_x_iobJEbPXC8NYQ) "
      ]
    },
    {
      "cell_type": "markdown",
      "metadata": {
        "id": "FUAhmhBDFFjF",
        "colab_type": "text"
      },
      "source": [
        "# 6章 ファイルの読み書き\n",
        "テキストファイルを操作する方法を学ぶ。"
      ]
    },
    {
      "cell_type": "markdown",
      "metadata": {
        "id": "ldw9scoDFXXC",
        "colab_type": "text"
      },
      "source": [
        "## 6-2 簡単なファイルの読み書き"
      ]
    },
    {
      "cell_type": "markdown",
      "metadata": {
        "id": "M7Q9lHILFmXS",
        "colab_type": "text"
      },
      "source": [
        "### 6-2-1 ファイルオブジェクトを用意する"
      ]
    },
    {
      "cell_type": "code",
      "metadata": {
        "id": "DeT3sCW8FDee",
        "colab_type": "code",
        "colab": {}
      },
      "source": [
        "test_file = open('test.txt', 'w')"
      ],
      "execution_count": 0,
      "outputs": []
    },
    {
      "cell_type": "markdown",
      "metadata": {
        "id": "osAqOwt_F1Ag",
        "colab_type": "text"
      },
      "source": [
        "### 6-2-2 ファイルに文字列を書き込む"
      ]
    },
    {
      "cell_type": "code",
      "metadata": {
        "id": "Lf4UA8HtFzb1",
        "colab_type": "code",
        "colab": {}
      },
      "source": [
        "test_file.write(\"Hello!\")"
      ],
      "execution_count": 0,
      "outputs": []
    },
    {
      "cell_type": "code",
      "metadata": {
        "id": "jEGssKCfGBT0",
        "colab_type": "code",
        "colab": {}
      },
      "source": [
        "test_file.flush()"
      ],
      "execution_count": 0,
      "outputs": []
    },
    {
      "cell_type": "markdown",
      "metadata": {
        "id": "RhCzz2azF8zU",
        "colab_type": "text"
      },
      "source": [
        "### 6-2-3 ファイルとの接続を解除する"
      ]
    },
    {
      "cell_type": "code",
      "metadata": {
        "id": "B5JBkUIOF8EN",
        "colab_type": "code",
        "colab": {}
      },
      "source": [
        "test_file.close()"
      ],
      "execution_count": 0,
      "outputs": []
    },
    {
      "cell_type": "markdown",
      "metadata": {
        "id": "KTHvceXMGXH9",
        "colab_type": "text"
      },
      "source": [
        "### 6-2-4 ファイルを読み込む"
      ]
    },
    {
      "cell_type": "code",
      "metadata": {
        "id": "sBS2TDc4GUK_",
        "colab_type": "code",
        "colab": {}
      },
      "source": [
        "test_file = open('test.txt', 'r')"
      ],
      "execution_count": 0,
      "outputs": []
    },
    {
      "cell_type": "code",
      "metadata": {
        "id": "GMWO-kVtGckY",
        "colab_type": "code",
        "colab": {}
      },
      "source": [
        "read_str = test_file.readline()"
      ],
      "execution_count": 0,
      "outputs": []
    },
    {
      "cell_type": "code",
      "metadata": {
        "id": "V5B1N5iEGiu0",
        "colab_type": "code",
        "colab": {}
      },
      "source": [
        "test_file.close()"
      ],
      "execution_count": 0,
      "outputs": []
    },
    {
      "cell_type": "code",
      "metadata": {
        "id": "2iwNo23iGk8u",
        "colab_type": "code",
        "colab": {}
      },
      "source": [
        "print(read_str)"
      ],
      "execution_count": 0,
      "outputs": []
    },
    {
      "cell_type": "markdown",
      "metadata": {
        "id": "Ub1ciLoFGs2_",
        "colab_type": "text"
      },
      "source": [
        "### 6-3 複数行を書き込み・読み込みする"
      ]
    },
    {
      "cell_type": "code",
      "metadata": {
        "id": "WFpLh59AGmlM",
        "colab_type": "code",
        "colab": {}
      },
      "source": [
        "test_file = open('test2.txt', 'w')"
      ],
      "execution_count": 0,
      "outputs": []
    },
    {
      "cell_type": "code",
      "metadata": {
        "id": "YmQhEPEXHBVw",
        "colab_type": "code",
        "colab": {}
      },
      "source": [
        "# 「\\n」は制御文字の一つ\n",
        "test_file.write('Hello!\\nPython')"
      ],
      "execution_count": 0,
      "outputs": []
    },
    {
      "cell_type": "code",
      "metadata": {
        "id": "gtH6-nSWHLYG",
        "colab_type": "code",
        "colab": {}
      },
      "source": [
        "test_file.close()"
      ],
      "execution_count": 0,
      "outputs": []
    },
    {
      "cell_type": "code",
      "metadata": {
        "id": "AEbJSnMdHNUF",
        "colab_type": "code",
        "colab": {}
      },
      "source": [
        "test_file = open('test2.txt', 'r')"
      ],
      "execution_count": 0,
      "outputs": []
    },
    {
      "cell_type": "code",
      "metadata": {
        "id": "S1jwbDMLHTAb",
        "colab_type": "code",
        "colab": {}
      },
      "source": [
        "lines = test_file.readlines()"
      ],
      "execution_count": 0,
      "outputs": []
    },
    {
      "cell_type": "code",
      "metadata": {
        "id": "jUciIFqhHXPW",
        "colab_type": "code",
        "colab": {}
      },
      "source": [
        "print(lines)"
      ],
      "execution_count": 0,
      "outputs": []
    },
    {
      "cell_type": "code",
      "metadata": {
        "id": "6gOxrNmrHbCb",
        "colab_type": "code",
        "colab": {}
      },
      "source": [
        "test_file.close()"
      ],
      "execution_count": 0,
      "outputs": []
    },
    {
      "cell_type": "markdown",
      "metadata": {
        "id": "hW5dpb64Hgwu",
        "colab_type": "text"
      },
      "source": [
        "### 6-3-4 改行を取り除く\n",
        "文字列型のstripメソッドは、\n",
        "\n",
        "文字列の前後にある半角の空白文字や、\n",
        "\n",
        "改行・タブといった制御文字を取り除いてくれる。"
      ]
    },
    {
      "cell_type": "code",
      "metadata": {
        "id": "W3cAods5Hck3",
        "colab_type": "code",
        "colab": {}
      },
      "source": [
        "print(lines[0])"
      ],
      "execution_count": 0,
      "outputs": []
    },
    {
      "cell_type": "code",
      "metadata": {
        "id": "wWmO53bxHms6",
        "colab_type": "code",
        "colab": {}
      },
      "source": [
        "print(lines[0].strip())"
      ],
      "execution_count": 0,
      "outputs": []
    },
    {
      "cell_type": "markdown",
      "metadata": {
        "id": "pFz0t69-H1qp",
        "colab_type": "text"
      },
      "source": [
        "## 6-4 for文を使ったファイルの処理"
      ]
    },
    {
      "cell_type": "code",
      "metadata": {
        "id": "FAqOeJ2HHrmp",
        "colab_type": "code",
        "colab": {}
      },
      "source": [
        "# ファイルに書き込むデータを準備\n",
        "data = ['1,2,3\\n','4,5,6\\n','7,8,9\\n']"
      ],
      "execution_count": 0,
      "outputs": []
    },
    {
      "cell_type": "code",
      "metadata": {
        "id": "nGRjdxYcH-PI",
        "colab_type": "code",
        "colab": {}
      },
      "source": [
        "f = open('test3.txt', 'w')\n",
        "f.writelines(data)\n",
        "f.close()"
      ],
      "execution_count": 0,
      "outputs": []
    },
    {
      "cell_type": "code",
      "metadata": {
        "id": "lAIcQq_rIHjE",
        "colab_type": "code",
        "colab": {}
      },
      "source": [
        "f = open('test3.txt', 'r')"
      ],
      "execution_count": 0,
      "outputs": []
    },
    {
      "cell_type": "code",
      "metadata": {
        "id": "V8A0zce-IPHn",
        "colab_type": "code",
        "colab": {}
      },
      "source": [
        "for line in f:\n",
        "  print(line.strip())"
      ],
      "execution_count": 0,
      "outputs": []
    },
    {
      "cell_type": "code",
      "metadata": {
        "id": "5ji0kGHoISoF",
        "colab_type": "code",
        "colab": {}
      },
      "source": [
        "f.close()"
      ],
      "execution_count": 0,
      "outputs": []
    },
    {
      "cell_type": "code",
      "metadata": {
        "id": "_wdsVw5wInUZ",
        "colab_type": "code",
        "colab": {}
      },
      "source": [
        "# 同じことを別の書き方で。（6-4-4の説明内容を先取り）\n",
        "with open('test3.txt', 'r') as f:\n",
        "  for line in f:\n",
        "    print(line.strip())"
      ],
      "execution_count": 0,
      "outputs": []
    },
    {
      "cell_type": "markdown",
      "metadata": {
        "id": "ZXhy66dCI904",
        "colab_type": "text"
      },
      "source": [
        "### 6-4-3 カンマをタブに変換\n",
        "（文字列型には便利なメソッドがいろいろある。）"
      ]
    },
    {
      "cell_type": "code",
      "metadata": {
        "id": "8Vqa64s7I2Aj",
        "colab_type": "code",
        "colab": {}
      },
      "source": [
        "'_'.join(['a', 'b', 'c'])"
      ],
      "execution_count": 0,
      "outputs": []
    },
    {
      "cell_type": "code",
      "metadata": {
        "id": "jUJRLlrqJIBz",
        "colab_type": "code",
        "colab": {}
      },
      "source": [
        "temp_list = '1,2,3'.split(',')\n",
        "print(temp_list)"
      ],
      "execution_count": 0,
      "outputs": []
    },
    {
      "cell_type": "code",
      "metadata": {
        "id": "BaAPKBo4JTFC",
        "colab_type": "code",
        "colab": {}
      },
      "source": [
        "output_line = '\\t'.join(temp_list)\n",
        "print(output_line)"
      ],
      "execution_count": 0,
      "outputs": []
    },
    {
      "cell_type": "code",
      "metadata": {
        "id": "jyQ5EBUSJcuM",
        "colab_type": "code",
        "colab": {}
      },
      "source": [
        "with open('test3.txt', 'r') as f:\n",
        "  ###"
      ],
      "execution_count": 0,
      "outputs": []
    },
    {
      "cell_type": "code",
      "metadata": {
        "id": "dGg9ZUg2J61W",
        "colab_type": "code",
        "colab": {}
      },
      "source": [
        ""
      ],
      "execution_count": 0,
      "outputs": []
    }
  ]
}