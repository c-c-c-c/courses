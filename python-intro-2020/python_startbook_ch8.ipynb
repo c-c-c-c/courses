{
  "nbformat": 4,
  "nbformat_minor": 0,
  "metadata": {
    "colab": {
      "name": "python_startbook_ch8.ipynb",
      "provenance": [],
      "collapsed_sections": [],
      "authorship_tag": "ABX9TyP9GH0ApOnhfZ2y7ynNoCY5",
      "include_colab_link": true
    },
    "kernelspec": {
      "name": "python3",
      "display_name": "Python 3"
    }
  },
  "cells": [
    {
      "cell_type": "markdown",
      "metadata": {
        "id": "view-in-github",
        "colab_type": "text"
      },
      "source": [
        "<a href=\"https://colab.research.google.com/github/tomonari-masada/courses/blob/master/python-intro-2020/python_startbook_ch8.ipynb\" target=\"_parent\"><img src=\"https://colab.research.google.com/assets/colab-badge.svg\" alt=\"Open In Colab\"/></a>"
      ]
    },
    {
      "cell_type": "markdown",
      "metadata": {
        "colab_type": "text",
        "id": "SlI1hb8GMBme"
      },
      "source": [
        "参考図書：[辻 真吾. Pythonスタートブック［増補改訂版］. Kindle Edition. ](https://www.amazon.co.jp/dp/B07C3LFNWJ/ref=cm_sw_r_tw_dp_U_x_iobJEbPXC8NYQ) "
      ]
    },
    {
      "cell_type": "markdown",
      "metadata": {
        "id": "RQzSHxEbK3ov",
        "colab_type": "text"
      },
      "source": [
        "# 8章 関数を作る\n",
        "組み込み関数や、すでにあるデータ型のメソッドを使うだけではなく、\n",
        "\n",
        "自分で関数を作って、それを使ってみる。\n"
      ]
    },
    {
      "cell_type": "markdown",
      "metadata": {
        "id": "ctXpn5hRM5yh",
        "colab_type": "text"
      },
      "source": [
        "関数は“別室での作業”。\n",
        "\n",
        "作業をお願いする側は、中で何をしているか、気にしなくていい。\n",
        "\n",
        "ちゃんと作業をしてくれれば、それでいい。"
      ]
    },
    {
      "cell_type": "code",
      "metadata": {
        "id": "sKg4u8uTOOVX",
        "colab_type": "code",
        "colab": {}
      },
      "source": [
        "# これは組み込み関数。関数lenが中で何をしているか、気にしなくていい。\n",
        "len('python')"
      ],
      "execution_count": 0,
      "outputs": []
    },
    {
      "cell_type": "markdown",
      "metadata": {
        "id": "Hz39yQSDNVtu",
        "colab_type": "text"
      },
      "source": [
        "### 8-2-2 簡単な関数を作ってみる"
      ]
    },
    {
      "cell_type": "code",
      "metadata": {
        "id": "a8u6XN9yK1SF",
        "colab_type": "code",
        "colab": {}
      },
      "source": [
        "def func():\n",
        "  i = 3"
      ],
      "execution_count": 0,
      "outputs": []
    },
    {
      "cell_type": "code",
      "metadata": {
        "id": "11uWwSZBNurX",
        "colab_type": "code",
        "colab": {}
      },
      "source": [
        "func()"
      ],
      "execution_count": 0,
      "outputs": []
    },
    {
      "cell_type": "code",
      "metadata": {
        "id": "XA8Y7zsGN0yA",
        "colab_type": "code",
        "colab": {}
      },
      "source": [
        "def func():\n",
        "  i = 3\n",
        "  return i"
      ],
      "execution_count": 0,
      "outputs": []
    },
    {
      "cell_type": "code",
      "metadata": {
        "id": "4Eq-HQbyN241",
        "colab_type": "code",
        "colab": {}
      },
      "source": [
        "func()"
      ],
      "execution_count": 0,
      "outputs": []
    },
    {
      "cell_type": "code",
      "metadata": {
        "id": "hheklByIN3mT",
        "colab_type": "code",
        "colab": {}
      },
      "source": [
        "def func(v):\n",
        "  i = v + 3\n",
        "  return i"
      ],
      "execution_count": 0,
      "outputs": []
    },
    {
      "cell_type": "code",
      "metadata": {
        "id": "jHqdyX9_N9_U",
        "colab_type": "code",
        "colab": {}
      },
      "source": [
        "func(5)"
      ],
      "execution_count": 0,
      "outputs": []
    },
    {
      "cell_type": "markdown",
      "metadata": {
        "id": "RYxRhjiSOdNI",
        "colab_type": "text"
      },
      "source": [
        "### 8-2-5 モジュールを作る\n",
        "モジュールの正体は、Pythonのスクリプトファイルそのもの。\n",
        "\n",
        "（少し実演。）"
      ]
    },
    {
      "cell_type": "markdown",
      "metadata": {
        "id": "qaf3JFe7O080",
        "colab_type": "text"
      },
      "source": [
        "（8-3は割愛。）"
      ]
    },
    {
      "cell_type": "markdown",
      "metadata": {
        "id": "isN0FhUvOHzF",
        "colab_type": "text"
      },
      "source": [
        "## 8-4 さらに関数を知る"
      ]
    },
    {
      "cell_type": "markdown",
      "metadata": {
        "id": "2Qe5GjyBPVyg",
        "colab_type": "text"
      },
      "source": [
        "### 8-4-1 関数を変数に代入する\n",
        "既存の関数に別の名前を付けられる。"
      ]
    },
    {
      "cell_type": "code",
      "metadata": {
        "id": "ZsO1M_1nN_QI",
        "colab_type": "code",
        "colab": {}
      },
      "source": [
        "len('python')"
      ],
      "execution_count": 0,
      "outputs": []
    },
    {
      "cell_type": "code",
      "metadata": {
        "id": "44jWN2zhPd6i",
        "colab_type": "code",
        "colab": {}
      },
      "source": [
        "length = len\n",
        "length('python')"
      ],
      "execution_count": 0,
      "outputs": []
    },
    {
      "cell_type": "markdown",
      "metadata": {
        "id": "m-R80Tu1PjsE",
        "colab_type": "text"
      },
      "source": [
        "### 8-4-2 関数を引数にとる\n",
        "関数を代入できるということは、引数にもできる、ということ。"
      ]
    },
    {
      "cell_type": "code",
      "metadata": {
        "id": "45zyvu_bPgvA",
        "colab_type": "code",
        "colab": {}
      },
      "source": [
        "str(3)"
      ],
      "execution_count": 0,
      "outputs": []
    },
    {
      "cell_type": "markdown",
      "metadata": {
        "id": "lxTybonUPvT5",
        "colab_type": "text"
      },
      "source": [
        "map関数：関数を引数にとる組み込み関数の例。"
      ]
    },
    {
      "cell_type": "code",
      "metadata": {
        "id": "kCqOVNrKPslx",
        "colab_type": "code",
        "colab": {}
      },
      "source": [
        "m = map(str, [1,2,3])"
      ],
      "execution_count": 0,
      "outputs": []
    },
    {
      "cell_type": "code",
      "metadata": {
        "id": "Uronr7M1P2pS",
        "colab_type": "code",
        "colab": {}
      },
      "source": [
        "type(m)"
      ],
      "execution_count": 0,
      "outputs": []
    },
    {
      "cell_type": "code",
      "metadata": {
        "id": "TL46FxnLP_s_",
        "colab_type": "code",
        "colab": {}
      },
      "source": [
        "list(m)"
      ],
      "execution_count": 0,
      "outputs": []
    },
    {
      "cell_type": "markdown",
      "metadata": {
        "id": "AwgYixM-QS0V",
        "colab_type": "text"
      },
      "source": [
        "関数を引数にとる自作の関数の例（参考書にはない例）"
      ]
    },
    {
      "cell_type": "code",
      "metadata": {
        "id": "TwIeodOXQAiS",
        "colab_type": "code",
        "colab": {}
      },
      "source": [
        "def myfunc(f1, f2, x):\n",
        "  return f1(x) - f2(x)"
      ],
      "execution_count": 0,
      "outputs": []
    },
    {
      "cell_type": "code",
      "metadata": {
        "id": "SdyXFDQwQ6UW",
        "colab_type": "code",
        "colab": {}
      },
      "source": [
        "myfunc(max, min, [1,3,4,6,7])"
      ],
      "execution_count": 0,
      "outputs": []
    },
    {
      "cell_type": "code",
      "metadata": {
        "id": "raClFZzRREO4",
        "colab_type": "code",
        "colab": {}
      },
      "source": [
        ""
      ],
      "execution_count": 0,
      "outputs": []
    }
  ]
}